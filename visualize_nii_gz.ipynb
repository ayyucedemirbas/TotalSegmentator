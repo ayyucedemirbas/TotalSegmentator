{
  "nbformat": 4,
  "nbformat_minor": 0,
  "metadata": {
    "colab": {
      "provenance": [],
      "authorship_tag": "ABX9TyMpSIYX3vkUsG5wiwC07VAM",
      "include_colab_link": true
    },
    "kernelspec": {
      "name": "python3",
      "display_name": "Python 3"
    },
    "language_info": {
      "name": "python"
    }
  },
  "cells": [
    {
      "cell_type": "markdown",
      "metadata": {
        "id": "view-in-github",
        "colab_type": "text"
      },
      "source": [
        "<a href=\"https://colab.research.google.com/github/ayyucedemirbas/TotalSegmentator/blob/main/visualize_nii_gz.ipynb\" target=\"_parent\"><img src=\"https://colab.research.google.com/assets/colab-badge.svg\" alt=\"Open In Colab\"/></a>"
      ]
    },
    {
      "cell_type": "code",
      "source": [
        "%mkdir segmentations\n",
        "%cd segmentations"
      ],
      "metadata": {
        "colab": {
          "base_uri": "https://localhost:8080/"
        },
        "id": "DPGC51lzntCT",
        "outputId": "a6e75567-0862-4cb1-f99f-11f6c4a4f5a8"
      },
      "execution_count": 1,
      "outputs": [
        {
          "output_type": "stream",
          "name": "stdout",
          "text": [
            "/content/segmentations\n"
          ]
        }
      ]
    },
    {
      "cell_type": "code",
      "source": [
        "!unzip /content/segmentations_342e4ea3-f3a8-4f02-91bc-b9701e0e71c1.zip"
      ],
      "metadata": {
        "id": "XVa55h70nmZN"
      },
      "execution_count": null,
      "outputs": []
    },
    {
      "cell_type": "code",
      "source": [
        "%cd .."
      ],
      "metadata": {
        "colab": {
          "base_uri": "https://localhost:8080/"
        },
        "id": "gRH1VtR1n4xc",
        "outputId": "5c6a0898-5e3f-4378-8096-63f8a14fbed8"
      },
      "execution_count": 5,
      "outputs": [
        {
          "output_type": "stream",
          "name": "stdout",
          "text": [
            "/content\n"
          ]
        }
      ]
    },
    {
      "cell_type": "code",
      "execution_count": null,
      "metadata": {
        "id": "2cqPIHxvnQsu"
      },
      "outputs": [],
      "source": [
        "import os\n",
        "import nibabel as nib\n",
        "import matplotlib.pyplot as plt\n",
        "import numpy as np\n",
        "\n",
        "def visualize_nii_files(directory):\n",
        "\n",
        "    if not os.path.isdir(directory):\n",
        "        print(f\"The directory '{directory}' does not exist.\")\n",
        "        return\n",
        "\n",
        "    nii_files = [f for f in os.listdir(directory) if f.endswith('.nii.gz')]\n",
        "\n",
        "    if not nii_files:\n",
        "        print(\"No .nii.gz files found in the directory.\")\n",
        "        return\n",
        "\n",
        "    for nii_file in nii_files:\n",
        "        file_path = os.path.join(directory, nii_file)\n",
        "        img = nib.load(file_path)\n",
        "        data = img.get_fdata()\n",
        "\n",
        "        middle_slice_index = data.shape[2] // 2\n",
        "        middle_slice = data[:, :, middle_slice_index]\n",
        "\n",
        "        plt.figure(figsize=(6, 6))\n",
        "        plt.imshow(np.rot90(middle_slice), cmap=\"gray\")\n",
        "        plt.title(f\"{nii_file} - Slice {middle_slice_index}\")\n",
        "        plt.axis(\"off\")\n",
        "        plt.show()\n",
        "\n",
        "if __name__ == \"__main__\":\n",
        "    directory_path = \"segmentations\"\n",
        "    visualize_nii_files(directory_path)\n"
      ]
    }
  ]
}